{
 "cells": [
  {
   "cell_type": "code",
   "execution_count": 1,
   "metadata": {},
   "outputs": [],
   "source": [
    "import os\n",
    "import json\n",
    "import pickle"
   ]
  },
  {
   "cell_type": "code",
   "execution_count": 4,
   "metadata": {},
   "outputs": [],
   "source": [
    "# root_dir = '/DATA_17/DATASET/Montage_data/train/'\n",
    "root_dir = '/DATA_STORAGE/DATASET/Montage_data/train/'\n",
    "json_dir = os.path.join(root_dir, 'label')\n",
    "img_dir = os.path.join(root_dir, 'image')\n",
    "\n",
    "json_paths = os.listdir(json_dir)\n",
    "json_paths = sorted(json_paths, key=lambda x: int(os.path.splitext(x)[0]))"
   ]
  },
  {
   "cell_type": "code",
   "execution_count": 5,
   "metadata": {},
   "outputs": [],
   "source": [
    "# f_info = dict()\n",
    "f_info = list()\n",
    "id2fid = dict()\n",
    "montage_data = dict()\n",
    "for i, json_path in enumerate(json_paths):\n",
    "    with open(os.path.join(json_dir, json_path), 'r', encoding='cp949') as f:\n",
    "        each_f = json.load(f)\n",
    "    assert str(each_f['info']['org_id']) == each_f['info']['org_img_name']\n",
    "    f_id = str(each_f['info']['org_id'])\n",
    "    f_gender = each_f['info']['gender']\n",
    "    f_age = each_f['info']['age']\n",
    "    f_img = os.path.join(img_dir, f_id+'.png')\n",
    "    id2fid[i] = f_id\n",
    "    f_info.append({'f_id':f_id, 'gender':f_gender, 'age':f_age, 'img_path':f_img})\n",
    "montage_data['ids'] = id2fid\n",
    "montage_data['file_info'] = f_info\n",
    "    "
   ]
  },
  {
   "cell_type": "code",
   "execution_count": 7,
   "metadata": {},
   "outputs": [],
   "source": [
    "with open('/DATA_STORAGE/DATASET/Montage_data/train/montage_data.pkl', 'wb') as f:\n",
    "    pickle.dump(montage_data, f)"
   ]
  },
  {
   "cell_type": "code",
   "execution_count": 8,
   "metadata": {},
   "outputs": [],
   "source": [
    "with open('/DATA_STORAGE/DATASET/Montage_data/train/montage_data.pkl', 'rb') as f:\n",
    "    a = pickle.load(f)"
   ]
  },
  {
   "cell_type": "code",
   "execution_count": 16,
   "metadata": {},
   "outputs": [
    {
     "data": {
      "text/plain": [
       "dict_keys(['ids', 'file_info'])"
      ]
     },
     "execution_count": 16,
     "metadata": {},
     "output_type": "execute_result"
    }
   ],
   "source": [
    "a.keys()"
   ]
  }
 ],
 "metadata": {
  "kernelspec": {
   "display_name": "base",
   "language": "python",
   "name": "python3"
  },
  "language_info": {
   "codemirror_mode": {
    "name": "ipython",
    "version": 3
   },
   "file_extension": ".py",
   "mimetype": "text/x-python",
   "name": "python",
   "nbconvert_exporter": "python",
   "pygments_lexer": "ipython3",
   "version": "3.8.12"
  },
  "orig_nbformat": 4
 },
 "nbformat": 4,
 "nbformat_minor": 2
}
